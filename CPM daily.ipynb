{
 "cells": [
  {
   "cell_type": "code",
   "execution_count": 3,
   "metadata": {},
   "outputs": [],
   "source": [
    "import numpy as np\n",
    "import pandas as pd\n",
    "from pandas import DataFrame\n",
    "from matplotlib import pyplot as plt\n",
    "import matplotlib.patches as patches\n",
    "import seaborn as sns\n",
    "%matplotlib inline"
   ]
  },
  {
   "cell_type": "code",
   "execution_count": 4,
   "metadata": {},
   "outputs": [],
   "source": [
    "df = pd.read_csv (r'C:\\Users\\alberto\\Desktop\\work\\CPM day-weekly-w-objective\\report-Jan-1-2019-Nov-26-2019(3).csv')\n",
    "#drop categories with NaN\n",
    "df = df.dropna()"
   ]
  },
  {
   "cell_type": "code",
   "execution_count": 5,
   "metadata": {},
   "outputs": [],
   "source": [
    "#df weekday coloumn\n",
    "df['Day'] = pd.to_datetime(df['Day'], errors='coerce')\n",
    "df['weekday'] = df.Day.dt.weekday_name\n"
   ]
  },
  {
   "cell_type": "code",
   "execution_count": 6,
   "metadata": {},
   "outputs": [],
   "source": [
    "#splitting the PLacement coloumn of the dataset\n",
    "df_marketplace = df[df['Placement']== 'marketplace']\n",
    "df_messenger_inbox = df[df['Placement']== 'messenger_inbox']\n",
    "df_instream_video = df[df['Placement']== 'instream_video'] \n",
    "df_facebook_stories = df[df['Placement']=='facebook_stories']\n",
    "df_messenger_stories = df[df['Placement']=='messenger_stories']\n",
    "df_feed = df[df['Placement']=='feed']\n",
    "df_instagram_stories = df[df['Placement']=='instagram_stories']\n",
    "df_right_hand_column = df[df['Placement']=='right_hand_column']\n",
    "df_instagram_explore = df[df['Placement']=='instagram_explore']\n",
    "df_rewarded_video = df[df['Placement']=='rewarded_video']\n",
    "df_instant_article = df[df['Placement']=='instant_article']\n",
    "df_an_classic = df[df['Placement']=='an_classic']\n",
    "df_suggested_video = df[df['Placement']=='suggested_video']\n"
   ]
  },
  {
   "cell_type": "code",
   "execution_count": 7,
   "metadata": {
    "scrolled": true
   },
   "outputs": [
    {
     "data": {
      "text/plain": [
       "<pandas.core.groupby.generic.DataFrameGroupBy object at 0x000001EF5B8A6D30>"
      ]
     },
     "execution_count": 7,
     "metadata": {},
     "output_type": "execute_result"
    }
   ],
   "source": [
    "#categories  groupped by weekday\n",
    "df_marketplace.groupby(['weekday'])\n",
    "df_messenger_inbox.groupby(['weekday'])\n",
    "df_facebook_stories.groupby(['weekday']) \n",
    "df_messenger_stories.groupby(['weekday'])\n",
    "df_feed.groupby(['weekday'])\n",
    "df_instagram_stories.groupby(['weekday'])\n",
    "df_instagram_explore.groupby(['weekday'])\n",
    "df_instant_article.groupby(['weekday'])\n",
    "df_an_classic.groupby(['weekday'])\n",
    "df_rewarded_video.groupby(['weekday'])\n",
    "df_right_hand_column.groupby(['weekday'])\n"
   ]
  },
  {
   "cell_type": "code",
   "execution_count": 8,
   "metadata": {},
   "outputs": [
    {
     "name": "stderr",
     "output_type": "stream",
     "text": [
      "C:\\Users\\alberto\\Anaconda3\\lib\\site-packages\\ipykernel_launcher.py:4: SettingWithCopyWarning: \n",
      "A value is trying to be set on a copy of a slice from a DataFrame.\n",
      "Try using .loc[row_indexer,col_indexer] = value instead\n",
      "\n",
      "See the caveats in the documentation: http://pandas.pydata.org/pandas-docs/stable/indexing.html#indexing-view-versus-copy\n",
      "  after removing the cwd from sys.path.\n",
      "C:\\Users\\alberto\\Anaconda3\\lib\\site-packages\\ipykernel_launcher.py:8: SettingWithCopyWarning: \n",
      "A value is trying to be set on a copy of a slice from a DataFrame.\n",
      "Try using .loc[row_indexer,col_indexer] = value instead\n",
      "\n",
      "See the caveats in the documentation: http://pandas.pydata.org/pandas-docs/stable/indexing.html#indexing-view-versus-copy\n",
      "  \n",
      "C:\\Users\\alberto\\Anaconda3\\lib\\site-packages\\ipykernel_launcher.py:12: SettingWithCopyWarning: \n",
      "A value is trying to be set on a copy of a slice from a DataFrame.\n",
      "Try using .loc[row_indexer,col_indexer] = value instead\n",
      "\n",
      "See the caveats in the documentation: http://pandas.pydata.org/pandas-docs/stable/indexing.html#indexing-view-versus-copy\n",
      "  if sys.path[0] == '':\n",
      "C:\\Users\\alberto\\Anaconda3\\lib\\site-packages\\ipykernel_launcher.py:16: SettingWithCopyWarning: \n",
      "A value is trying to be set on a copy of a slice from a DataFrame.\n",
      "Try using .loc[row_indexer,col_indexer] = value instead\n",
      "\n",
      "See the caveats in the documentation: http://pandas.pydata.org/pandas-docs/stable/indexing.html#indexing-view-versus-copy\n",
      "  app.launch_new_instance()\n",
      "C:\\Users\\alberto\\Anaconda3\\lib\\site-packages\\ipykernel_launcher.py:20: SettingWithCopyWarning: \n",
      "A value is trying to be set on a copy of a slice from a DataFrame.\n",
      "Try using .loc[row_indexer,col_indexer] = value instead\n",
      "\n",
      "See the caveats in the documentation: http://pandas.pydata.org/pandas-docs/stable/indexing.html#indexing-view-versus-copy\n",
      "C:\\Users\\alberto\\Anaconda3\\lib\\site-packages\\ipykernel_launcher.py:24: SettingWithCopyWarning: \n",
      "A value is trying to be set on a copy of a slice from a DataFrame.\n",
      "Try using .loc[row_indexer,col_indexer] = value instead\n",
      "\n",
      "See the caveats in the documentation: http://pandas.pydata.org/pandas-docs/stable/indexing.html#indexing-view-versus-copy\n",
      "C:\\Users\\alberto\\Anaconda3\\lib\\site-packages\\ipykernel_launcher.py:28: SettingWithCopyWarning: \n",
      "A value is trying to be set on a copy of a slice from a DataFrame.\n",
      "Try using .loc[row_indexer,col_indexer] = value instead\n",
      "\n",
      "See the caveats in the documentation: http://pandas.pydata.org/pandas-docs/stable/indexing.html#indexing-view-versus-copy\n",
      "C:\\Users\\alberto\\Anaconda3\\lib\\site-packages\\ipykernel_launcher.py:32: SettingWithCopyWarning: \n",
      "A value is trying to be set on a copy of a slice from a DataFrame.\n",
      "Try using .loc[row_indexer,col_indexer] = value instead\n",
      "\n",
      "See the caveats in the documentation: http://pandas.pydata.org/pandas-docs/stable/indexing.html#indexing-view-versus-copy\n",
      "C:\\Users\\alberto\\Anaconda3\\lib\\site-packages\\ipykernel_launcher.py:36: SettingWithCopyWarning: \n",
      "A value is trying to be set on a copy of a slice from a DataFrame.\n",
      "Try using .loc[row_indexer,col_indexer] = value instead\n",
      "\n",
      "See the caveats in the documentation: http://pandas.pydata.org/pandas-docs/stable/indexing.html#indexing-view-versus-copy\n",
      "C:\\Users\\alberto\\Anaconda3\\lib\\site-packages\\ipykernel_launcher.py:40: SettingWithCopyWarning: \n",
      "A value is trying to be set on a copy of a slice from a DataFrame.\n",
      "Try using .loc[row_indexer,col_indexer] = value instead\n",
      "\n",
      "See the caveats in the documentation: http://pandas.pydata.org/pandas-docs/stable/indexing.html#indexing-view-versus-copy\n",
      "C:\\Users\\alberto\\Anaconda3\\lib\\site-packages\\ipykernel_launcher.py:44: SettingWithCopyWarning: \n",
      "A value is trying to be set on a copy of a slice from a DataFrame.\n",
      "Try using .loc[row_indexer,col_indexer] = value instead\n",
      "\n",
      "See the caveats in the documentation: http://pandas.pydata.org/pandas-docs/stable/indexing.html#indexing-view-versus-copy\n"
     ]
    }
   ],
   "source": [
    "#sort by weekday\n",
    "df_feed['weekday'] = pd.Categorical(df_feed['weekday'], categories=\n",
    "    ['Monday','Tuesday','Wednesday','Thursday','Friday','Saturday', 'Sunday'],\n",
    "    ordered=True)\n",
    "\n",
    "df_messenger_inbox['weekday'] = pd.Categorical(df_messenger_inbox['weekday'], categories=\n",
    "    ['Monday','Tuesday','Wednesday','Thursday','Friday','Saturday', 'Sunday'],\n",
    "    ordered=True)\n",
    "\n",
    "df_facebook_stories['weekday'] = pd.Categorical(df_facebook_stories['weekday'], categories=\n",
    "    ['Monday','Tuesday','Wednesday','Thursday','Friday','Saturday', 'Sunday'],\n",
    "    ordered=True)\n",
    "\n",
    "df_messenger_stories['weekday'] = pd.Categorical(df_messenger_stories['weekday'], categories=\n",
    "    ['Monday','Tuesday','Wednesday','Thursday','Friday','Saturday', 'Sunday'],\n",
    "    ordered=True)\n",
    "\n",
    "df_instagram_stories['weekday'] = pd.Categorical(df_instagram_stories['weekday'], categories=\n",
    "    ['Monday','Tuesday','Wednesday','Thursday','Friday','Saturday', 'Sunday'],\n",
    "    ordered=True)\n",
    "\n",
    "df_instagram_explore['weekday'] = pd.Categorical(df_instagram_explore['weekday'], categories=\n",
    "    ['Monday','Tuesday','Wednesday','Thursday','Friday','Saturday', 'Sunday'],\n",
    "    ordered=True)\n",
    "\n",
    "df_marketplace['weekday'] = pd.Categorical(df_marketplace['weekday'], categories=\n",
    "    ['Monday','Tuesday','Wednesday','Thursday','Friday','Saturday', 'Sunday'],\n",
    "    ordered=True)\n",
    "\n",
    "df_instant_article['weekday'] = pd.Categorical(df_instant_article['weekday'], categories=\n",
    "    ['Monday','Tuesday','Wednesday','Thursday','Friday','Saturday', 'Sunday'],\n",
    "    ordered=True)\n",
    "\n",
    "df_an_classic['weekday'] = pd.Categorical(df_an_classic['weekday'], categories=\n",
    "    ['Monday','Tuesday','Wednesday','Thursday','Friday','Saturday', 'Sunday'],\n",
    "    ordered=True)\n",
    "\n",
    "df_rewarded_video['weekday'] = pd.Categorical(df_rewarded_video['weekday'], categories=\n",
    "    ['Monday','Tuesday','Wednesday','Thursday','Friday','Saturday', 'Sunday'],\n",
    "    ordered=True)\n",
    "\n",
    "df_right_hand_column['weekday'] = pd.Categorical(df_right_hand_column['weekday'], categories=\n",
    "    ['Monday','Tuesday','Wednesday','Thursday','Friday','Saturday', 'Sunday'],\n",
    "    ordered=True)"
   ]
  },
  {
   "cell_type": "code",
   "execution_count": 9,
   "metadata": {},
   "outputs": [],
   "source": [
    "#day amount\n",
    "#day feed\n",
    "day_feed_amount = df_feed.groupby(['weekday'])[['Amount spent (SEK)']]\n",
    "day_feed_amount = day_feed_amount.sum()\n",
    "\n",
    "#day marketplace\n",
    "day_marketplace_amount = df_marketplace.groupby(['weekday'])[['Amount spent (SEK)']]\n",
    "day_marketplace_amount = day_marketplace_amount.sum()\n",
    "#day messenger inbox\n",
    "day_messenger_inbox_amount = df_messenger_inbox.groupby(['weekday'])[['Amount spent (SEK)']]\n",
    "day_messenger_inbox_amount = day_messenger_inbox_amount.sum()\n",
    "#day facebook stories\n",
    "day_facebook_stories_amount = df_facebook_stories.groupby(['weekday'])[['Amount spent (SEK)']]\n",
    "day_facebook_stories_amount = day_facebook_stories_amount.sum()\n",
    "#day messenger stories\n",
    "day_messenger_stories_amount = df_messenger_stories.groupby(['weekday'])[['Amount spent (SEK)']]\n",
    "day_messenger_stories_amount = day_messenger_stories_amount.sum()\n",
    "#day instagram stories\n",
    "day_instagram_stories_amount = df_instagram_stories.groupby(['weekday'])[['Amount spent (SEK)']]\n",
    "day_instagram_stories_amount = day_instagram_stories_amount.sum()\n",
    "#day instagram explore\n",
    "day_instagram_explore_amount = df_instagram_explore.groupby(['weekday'])[['Amount spent (SEK)']]\n",
    "day_instagram_explore_amount =day_instagram_explore_amount.sum()\n",
    "#day instant article\n",
    "day_instant_article_amount = df_instant_article.groupby(['weekday'])[['Amount spent (SEK)']]\n",
    "day_instant_article_amount = day_instant_article_amount.sum()\n",
    "#day_an_classic\n",
    "day_an_classic_amount = df_an_classic.groupby(['weekday'])[['Amount spent (SEK)']]\n",
    "day_an_classic_amount = day_an_classic_amount.sum()\n",
    "#day_rewarded_video\n",
    "day_rewarded_video_amount = df_rewarded_video.groupby(['weekday'])[['Amount spent (SEK)']]\n",
    "day_rewarded_video_amount = day_rewarded_video_amount.sum()\n",
    "#day_right_hand_column\n",
    "day_right_hand_column_amount = df_right_hand_column.groupby(['weekday'])[['Amount spent (SEK)']]\n",
    "day_right_hand_column_amount =day_right_hand_column_amount.sum()\n"
   ]
  },
  {
   "cell_type": "code",
   "execution_count": 10,
   "metadata": {},
   "outputs": [],
   "source": [
    "#day impressions/1000\n",
    "#day feed\n",
    "day_feed_Impressions = df_feed.groupby(['weekday'])[['Impressions']]\n",
    "day_feed_Impressions = day_feed_Impressions.sum()\n",
    "day_feed_Impressions = day_feed_Impressions / 1000\n",
    "\n",
    "#day marketplace\n",
    "day_marketplace_Impressions = df_marketplace.groupby(['weekday'])[['Impressions']]\n",
    "day_marketplace_Impressions = day_marketplace_Impressions.sum()\n",
    "day_marketplace_Impressions = day_marketplace_Impressions / 1000\n",
    "\n",
    "#day messenger inbox\n",
    "day_messenger_inbox_Impressions = df_messenger_inbox.groupby(['weekday'])[['Impressions']]\n",
    "day_messenger_inbox_Impressions = day_messenger_inbox_Impressions.sum()\n",
    "day_messenger_inbox_Impressions = day_messenger_inbox_Impressions / 1000\n",
    "\n",
    "#day facebook stories\n",
    "day_facebook_stories_Impressions = df_facebook_stories.groupby(['weekday'])[['Impressions']]\n",
    "day_facebook_stories_Impressions = day_facebook_stories_Impressions.sum()\n",
    "day_facebook_stories_Impressions = day_facebook_stories_Impressions / 1000\n",
    "\n",
    "#day messenger stories\n",
    "day_messenger_stories_Impressions = df_messenger_stories.groupby(['weekday'])[['Impressions']]\n",
    "day_messenger_stories_Impressions = day_messenger_stories_Impressions.sum()\n",
    "day_messenger_stories_Impressions = day_messenger_stories_Impressions / 1000\n",
    "\n",
    "#day instagram stories\n",
    "day_instagram_stories_Impressions = df_instagram_stories.groupby(['weekday'])[['Impressions']]\n",
    "day_instagram_stories_Impressions = day_instagram_stories_Impressions.sum()\n",
    "day_instagram_stories_Impressions = day_instagram_stories_Impressions / 1000\n",
    "\n",
    "#day instagram explore\n",
    "day_instagram_explore_Impressions = df_instagram_explore.groupby(['weekday'])[['Impressions']]\n",
    "day_instagram_explore_Impressions =day_instagram_explore_Impressions.sum()\n",
    "day_instagram_explore_Impressions = day_instagram_explore_Impressions / 1000\n",
    "\n",
    "#day instant article\n",
    "day_instant_article_Impressions = df_instant_article.groupby(['weekday'])[['Impressions']]\n",
    "day_instant_article_Impressions = day_instant_article_Impressions.sum()\n",
    "day_instant_article_Impressions = day_instant_article_Impressions / 1000\n",
    "\n",
    "#day an classic\n",
    "day_an_classic_Impressions = df_an_classic.groupby(['weekday'])[['Impressions']]\n",
    "day_an_classic_Impressions = day_an_classic_Impressions.sum()\n",
    "day_an_classic_Impressions = day_an_classic_Impressions / 1000\n",
    "\n",
    "#day_rewarded_video\n",
    "day_rewarded_video_Impressions = df_rewarded_video.groupby(['weekday'])[['Impressions']]\n",
    "day_rewarded_video_Impressions = day_rewarded_video_Impressions.sum()\n",
    "day_rewarded_video_Impressions = day_rewarded_video_Impressions / 1000\n",
    "\n",
    "#day_right_hand_column\n",
    "day_right_hand_column_Impressions = df_right_hand_column.groupby(['weekday'])[['Impressions']]\n",
    "day_right_hand_column_Impressions = day_right_hand_column_Impressions.sum()\n",
    "day_right_hand_column_Impressions = day_right_hand_column_Impressions / 1000\n"
   ]
  },
     "execution_count": 11,
     "metadata": {},
     "output_type": "execute_result"
    }
   ],
   "source": [
    "#feed CPM Daily\n",
    "daily_CPM_feed = []\n",
    "for x in range(len(day_feed_amount)):\n",
    "    day_feed_amount.iloc[x,0] / day_feed_Impressions.iloc[x,0]\n",
    "    daily_CPM_feed.append(day_feed_amount.iloc[x,0] / day_feed_Impressions.iloc[x,0])\n",
    "\n",
    "daily_CPM_feed"
   ]
  },
  {
   "cell_type": "code",
   "execution_count": 12,
   "metadata": {},
   "outputs": [
    {
     "data": {
     
     "execution_count": 12,
     "metadata": {},
     "output_type": "execute_result"
    }
   ],
   "source": [
    "# marketplace CPM Daily\n",
    "daily_CPM_marketplace = []\n",
    "for x in range(len(day_marketplace_amount)):\n",
    "    day_marketplace_amount.iloc[x,0] / day_marketplace_Impressions.iloc[x,0]\n",
    "    daily_CPM_marketplace.append(day_marketplace_amount.iloc[x,0] / day_marketplace_Impressions.iloc[x,0])\n",
    "\n",
    "daily_CPM_marketplace"
   ]
  },
  {
   "cell_type": "code",
   "execution_count": 13,
   "metadata": {},
   "outputs": [
    {
     "d
     },
     "execution_count": 13,
     "metadata": {},
     "output_type": "execute_result"
    }
   ],
   "source": [
    "# messenger_inbox CPM Daily\n",
    "daily_CPM_messenger_inbox = []\n",
    "for x in range(len(day_messenger_inbox_amount)):\n",
    "    day_messenger_inbox_amount.iloc[x,0] / day_messenger_inbox_Impressions.iloc[x,0]\n",
    "    daily_CPM_messenger_inbox.append(day_messenger_inbox_amount.iloc[x,0] / day_messenger_inbox_Impressions.iloc[x,0])\n",
    "\n",
    "daily_CPM_messenger_inbox"
   ]
  },
  {
   "cell_type": "code",
   "execution_count": 14,
   "metadata": {},
   "outputs": [
    {
     },
     "execution_count": 14,
     "metadata": {},
     "output_type": "execute_result"
    }
   ],
   "source": [
    "#facebook_stories CPM Daily\n",
    "daily_CPM_facebook_stories = []\n",
    "for x in range(len(day_facebook_stories_amount)):\n",
    "    day_facebook_stories_amount.iloc[x,0] / day_facebook_stories_Impressions.iloc[x,0]\n",
    "    daily_CPM_facebook_stories.append(day_facebook_stories_amount.iloc[x,0] / day_facebook_stories_Impressions.iloc[x,0])\n",
    "\n",
    "daily_CPM_facebook_stories"
   ]
  },
  {
   "cell_type": "code",
   "execution_count": 15,
   "metadata": {},
   "outputs": [
    {
     
     },
     "execution_count": 15,
     "metadata": {},
     "output_type": "execute_result"
    }
   ],
   "source": [
    "#messenger_stories CPM Daily\n",
    "daily_CPM_messenger_stories = []\n",
    "for x in range(len(day_messenger_stories_amount)):\n",
    "    day_messenger_stories_amount.iloc[x,0] / day_messenger_stories_Impressions.iloc[x,0]\n",
    "    daily_CPM_messenger_stories.append(day_messenger_stories_amount.iloc[x,0] / day_messenger_stories_Impressions.iloc[x,0])\n",
    "\n",
    "daily_CPM_messenger_stories"
   ]
  },
  {
   "cell_type": "code",
   "execution_count": 16,
   "metadata": {},
   "outputs": [
    {
     },
     "execution_count": 16,
     "metadata": {},
     "output_type": "execute_result"
    }
   ],
   "source": [
    "#instagram_stories CPM Daily\n",
    "daily_CPM_instagram_stories = []\n",
    "for x in range(len(day_instagram_stories_amount)):\n",
    "    day_instagram_stories_amount.iloc[x,0] / day_instagram_stories_Impressions.iloc[x,0]\n",
    "    daily_CPM_instagram_stories.append(day_instagram_stories_amount.iloc[x,0] / day_instagram_stories_Impressions.iloc[x,0])\n",
    "\n",
    "daily_CPM_instagram_stories"
   ]
  },
  {
   "cell_type": "code",
   "execution_count": 17,
   "metadata": {},
   "outputs": [
    {
     "data": {
      
     },
     "execution_count": 17,
     "metadata": {},
     "output_type": "execute_result"
    }
   ],
   "source": [
    "#instagram_explore CPM Daily\n",
    "daily_CPM_instagram_explore = []\n",
    "for x in range(len(day_instagram_explore_amount)):\n",
    "    day_instagram_explore_amount.iloc[x,0] / day_instagram_explore_Impressions.iloc[x,0]\n",
    "    daily_CPM_instagram_explore.append(day_instagram_explore_amount.iloc[x,0] / day_instagram_explore_Impressions.iloc[x,0])\n",
    "\n",
    "daily_CPM_instagram_explore"
   ]
  },
  {
   "cell_type": "code",
   "execution_count": 18,
   "metadata": {},
   "outputs": [
    {
     "data": {
      
     },
     "execution_count": 18,
     "metadata": {},
     "output_type": "execute_result"
    }
   ],
   "source": [
    "#instant_article CPM Daily\n",
    "daily_CPM_instant_article = []\n",
    "for x in range(len(day_instant_article_amount)):\n",
    "    day_instant_article_amount.iloc[x,0] / day_instant_article_Impressions.iloc[x,0]\n",
    "    daily_CPM_instant_article.append(day_instant_article_amount.iloc[x,0] / day_instant_article_Impressions.iloc[x,0])\n",
    "\n",
    "daily_CPM_instant_article"
   ]
  },
  {
   "cell_type": "code",
   "execution_count": 19,
   "metadata": {},
   "outputs": [
    {
     "data": {
      
     },
     "execution_count": 19,
     "metadata": {},
     "output_type": "execute_result"
    }
   ],
   "source": [
    "#an_classic CPM Daily\n",
    "daily_CPM_an_classic = []\n",
    "for x in range(len(day_an_classic_amount)):\n",
    "    day_an_classic_amount.iloc[x,0] / day_an_classic_Impressions.iloc[x,0]\n",
    "    daily_CPM_an_classic.append(day_an_classic_amount.iloc[x,0] / day_an_classic_Impressions.iloc[x,0])\n",
    "\n",
    "daily_CPM_an_classic"
   ]
  },
  {
   "cell_type": "code",
   "execution_count": 20,
   "metadata": {},
   "outputs": [
    {
     },
     "execution_count": 20,
     "metadata": {},
     "output_type": "execute_result"
    }
   ],
   "source": [
    "#rewarded_video CPM Daily\n",
    "daily_CPM_rewarded_video = []\n",
    "for x in range(len(day_rewarded_video_amount)):\n",
    "    day_rewarded_video_amount.iloc[x,0] / day_rewarded_video_Impressions.iloc[x,0]\n",
    "    daily_CPM_rewarded_video.append(day_rewarded_video_amount.iloc[x,0] / day_rewarded_video_Impressions.iloc[x,0])\n",
    "\n",
    "daily_CPM_rewarded_video"
   ]
  },
  {
   "cell_type": "code",
   "execution_count": 21,
   "metadata": {},
   "outputs": [
    {
     },
     "execution_count": 21,
     "metadata": {},
     "output_type": "execute_result"
    }
   ],
   "source": [
    "#day_right_hand_column CPM Daily\n",
    "daily_CPM_right_hand_column = []\n",
    "for x in range(len(day_right_hand_column_amount)):\n",
    "    day_right_hand_column_amount.iloc[x,0] / day_right_hand_column_Impressions.iloc[x,0]\n",
    "    daily_CPM_right_hand_column.append(day_right_hand_column_amount.iloc[x,0] / day_right_hand_column_Impressions.iloc[x,0])\n",
    "\n",
    "daily_CPM_right_hand_column"
   ]
  },
  {
   "cell_type": "code",
   "execution_count": 22,
   "metadata": {},
   "outputs": [
    {
     "data": {
      "text/html": [
       "<div>\n",
       "<style scoped>\n",
       "    .dataframe tbody tr th:only-of-type {\n",
       "        vertical-align: middle;\n",
       "    }\n",
       "\n",
       "    .dataframe tbody tr th {\n",
       "        vertical-align: top;\n",
       "    }\n",
       "\n",
       "    .dataframe thead th {\n",
       "        text-align: right;\n",
       "    }\n",
       "</style>\n",
       "<table border=\"1\" class=\"dataframe\">\n",
       "  <thead>\n",
       "    <tr style=\"text-align: right;\">\n",
       "      <th></th>\n",
       "      <th>daily_CPM_instant_article</th>\n",
       "      <th>daily_CPM_instagram_explore</th>\n",
       "      <th>daily_CPM_instagram_stories</th>\n",
       "      <th>daily_CPM_messenger_stories</th>\n",
       "      <th>daily_CPM_facebook_stories</th>\n",
       "      <th>daily_CPM_messenger_inbox</th>\n",
       "      <th>daily_CPM_marketplace</th>\n",
       "      <th>daily_CPM_feed</th>\n",
       "      <th>daily_CPM_an_classic</th>\n",
       "      <th>daily_CPM_rewarded_video</th>\n",
       "      <th>daily_CPM_right_hand_column</th>\n",
       "    </tr>\n",
       "  </thead>\n",
       "  <tbody>\n",
       "    <tr>\n",
       "    </tr>\n",
       "  </tbody>\n",
       "</table>\n",
       "</div>"
      ],
      "
     },
     "execution_count": 22,
     "metadata": {},
     "output_type": "execute_result"
    }
   ],
   "source": [
    "data= pd.DataFrame({\"daily_CPM_instant_article\":[daily_CPM_instant_article],\"daily_CPM_instagram_explore\": [daily_CPM_instagram_explore],\"daily_CPM_instagram_stories\": [daily_CPM_instagram_stories],\"daily_CPM_instagram_stories\": [daily_CPM_instagram_stories], \"daily_CPM_messenger_stories\": [daily_CPM_messenger_stories],\"daily_CPM_facebook_stories\": [daily_CPM_facebook_stories], \"daily_CPM_messenger_inbox\":[daily_CPM_messenger_inbox], \"daily_CPM_marketplace\": [daily_CPM_marketplace],\"daily_CPM_feed\": [daily_CPM_feed], \"daily_CPM_an_classic\": [daily_CPM_an_classic], \"daily_CPM_rewarded_video\": [daily_CPM_rewarded_video], \"daily_CPM_right_hand_column\":[daily_CPM_right_hand_column]})\n",
    "data"
   ]
  },
  {
   "cell_type": "code",
   "execution_count": 23,
   "metadata": {},
   "outputs": [],
   "source": [
    "#datatoexcel = pd.ExcelWriter(\"daily CPM.xlsx\",engine=\"xlsxwriter\")\n",
    "#data.to_excel(datatoexcel,sheet_name=\"Sheet1\")\n",
    "#datatoexcel.save()"
   ]
  },
  {
   "cell_type": "code",
   "execution_count": null,
   "metadata": {},
   "outputs": [],
   "source": []
  }
 ],
 "metadata": {
  "kernelspec": {
   "display_name": "Python 3",
   "language": "python",
   "name": "python3"
  },
  "language_info": {
   "codemirror_mode": {
    "name": "ipython",
    "version": 3
   },
   "file_extension": ".py",
   "mimetype": "text/x-python",
   "name": "python",
   "nbconvert_exporter": "python",
   "pygments_lexer": "ipython3",
   "version": "3.7.3"
  }
 },
 "nbformat": 4,
 "nbformat_minor": 2
}
